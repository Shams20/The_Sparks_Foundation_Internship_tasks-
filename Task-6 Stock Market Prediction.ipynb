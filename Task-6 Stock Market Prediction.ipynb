{
 "cells": [
  {
   "cell_type": "markdown",
   "metadata": {},
   "source": [
    "# Shamstabrez Alam"
   ]
  },
  {
   "cell_type": "markdown",
   "metadata": {},
   "source": [
    "# TASK-6"
   ]
  },
  {
   "cell_type": "markdown",
   "metadata": {},
   "source": [
    "# Stock Market Prediction using Numerical and Textual Analysis"
   ]
  },
  {
   "cell_type": "markdown",
   "metadata": {},
   "source": [
    " The task is to create a hybrid model for stock price/performance prediction using numerical analysis of historical stock prices and sentimental analysis of news headlines.\n",
    "\n"
   ]
  },
  {
   "cell_type": "markdown",
   "metadata": {},
   "source": [
    "Download historical stock prices from https://finance.yahoo.com/"
   ]
  },
  {
   "cell_type": "markdown",
   "metadata": {},
   "source": [
    " Download textual (news) data from https://bit.ly/36fFPI6"
   ]
  },
  {
   "cell_type": "markdown",
   "metadata": {},
   "source": [
    "# Importing Required Packages"
   ]
  },
  {
   "cell_type": "code",
   "execution_count": 1,
   "metadata": {},
   "outputs": [],
   "source": [
    "import numpy as np\n",
    "import pandas as pd\n",
    "import matplotlib.pyplot as plt\n",
    "import seaborn as sns\n",
    "import warnings\n",
    "warnings.filterwarnings(\"ignore\")\n",
    "import scipy.stats as stats"
   ]
  },
  {
   "cell_type": "markdown",
   "metadata": {},
   "source": [
    "# Loading Textual (News) data"
   ]
  },
  {
   "cell_type": "code",
   "execution_count": 2,
   "metadata": {},
   "outputs": [],
   "source": [
    "ndf = pd.read_csv(\"india-news-headlines.csv\")\n"
   ]
  },
  {
   "cell_type": "code",
   "execution_count": 3,
   "metadata": {},
   "outputs": [
    {
     "data": {
      "text/html": [
       "<div>\n",
       "<style scoped>\n",
       "    .dataframe tbody tr th:only-of-type {\n",
       "        vertical-align: middle;\n",
       "    }\n",
       "\n",
       "    .dataframe tbody tr th {\n",
       "        vertical-align: top;\n",
       "    }\n",
       "\n",
       "    .dataframe thead th {\n",
       "        text-align: right;\n",
       "    }\n",
       "</style>\n",
       "<table border=\"1\" class=\"dataframe\">\n",
       "  <thead>\n",
       "    <tr style=\"text-align: right;\">\n",
       "      <th></th>\n",
       "      <th>publish_date</th>\n",
       "      <th>headline_category</th>\n",
       "      <th>headline_text</th>\n",
       "    </tr>\n",
       "  </thead>\n",
       "  <tbody>\n",
       "    <tr>\n",
       "      <th>0</th>\n",
       "      <td>20010101</td>\n",
       "      <td>sports.wwe</td>\n",
       "      <td>win over cena satisfying but defeating underta...</td>\n",
       "    </tr>\n",
       "    <tr>\n",
       "      <th>1</th>\n",
       "      <td>20010102</td>\n",
       "      <td>unknown</td>\n",
       "      <td>Status quo will not be disturbed at Ayodhya; s...</td>\n",
       "    </tr>\n",
       "    <tr>\n",
       "      <th>2</th>\n",
       "      <td>20010102</td>\n",
       "      <td>unknown</td>\n",
       "      <td>Fissures in Hurriyat over Pak visit</td>\n",
       "    </tr>\n",
       "    <tr>\n",
       "      <th>3</th>\n",
       "      <td>20010102</td>\n",
       "      <td>unknown</td>\n",
       "      <td>America's unwanted heading for India?</td>\n",
       "    </tr>\n",
       "    <tr>\n",
       "      <th>4</th>\n",
       "      <td>20010102</td>\n",
       "      <td>unknown</td>\n",
       "      <td>For bigwigs; it is destination Goa</td>\n",
       "    </tr>\n",
       "  </tbody>\n",
       "</table>\n",
       "</div>"
      ],
      "text/plain": [
       "   publish_date headline_category  \\\n",
       "0      20010101        sports.wwe   \n",
       "1      20010102           unknown   \n",
       "2      20010102           unknown   \n",
       "3      20010102           unknown   \n",
       "4      20010102           unknown   \n",
       "\n",
       "                                       headline_text  \n",
       "0  win over cena satisfying but defeating underta...  \n",
       "1  Status quo will not be disturbed at Ayodhya; s...  \n",
       "2                Fissures in Hurriyat over Pak visit  \n",
       "3              America's unwanted heading for India?  \n",
       "4                 For bigwigs; it is destination Goa  "
      ]
     },
     "execution_count": 3,
     "metadata": {},
     "output_type": "execute_result"
    }
   ],
   "source": [
    "ndf.head()"
   ]
  },
  {
   "cell_type": "code",
   "execution_count": 4,
   "metadata": {},
   "outputs": [
    {
     "name": "stdout",
     "output_type": "stream",
     "text": [
      "<class 'pandas.core.frame.DataFrame'>\n",
      "RangeIndex: 3297172 entries, 0 to 3297171\n",
      "Data columns (total 3 columns):\n",
      " #   Column             Dtype \n",
      "---  ------             ----- \n",
      " 0   publish_date       int64 \n",
      " 1   headline_category  object\n",
      " 2   headline_text      object\n",
      "dtypes: int64(1), object(2)\n",
      "memory usage: 75.5+ MB\n"
     ]
    }
   ],
   "source": [
    "ndf.info()"
   ]
  },
  {
   "cell_type": "markdown",
   "metadata": {},
   "source": [
    "# Data Pre-processing"
   ]
  },
  {
   "cell_type": "code",
   "execution_count": 5,
   "metadata": {},
   "outputs": [],
   "source": [
    "ndf['published_date'] = np.array([str(str(str(x)[:4]) + '/' + str(str(x)[4:6]) + '/' + str(str(x)[6:])) for x in ndf['publish_date']])\n"
   ]
  },
  {
   "cell_type": "code",
   "execution_count": 6,
   "metadata": {},
   "outputs": [
    {
     "data": {
      "text/html": [
       "<div>\n",
       "<style scoped>\n",
       "    .dataframe tbody tr th:only-of-type {\n",
       "        vertical-align: middle;\n",
       "    }\n",
       "\n",
       "    .dataframe tbody tr th {\n",
       "        vertical-align: top;\n",
       "    }\n",
       "\n",
       "    .dataframe thead th {\n",
       "        text-align: right;\n",
       "    }\n",
       "</style>\n",
       "<table border=\"1\" class=\"dataframe\">\n",
       "  <thead>\n",
       "    <tr style=\"text-align: right;\">\n",
       "      <th></th>\n",
       "      <th>publish_date</th>\n",
       "      <th>headline_category</th>\n",
       "      <th>headline_text</th>\n",
       "      <th>published_date</th>\n",
       "    </tr>\n",
       "  </thead>\n",
       "  <tbody>\n",
       "    <tr>\n",
       "      <th>0</th>\n",
       "      <td>20010101</td>\n",
       "      <td>sports.wwe</td>\n",
       "      <td>win over cena satisfying but defeating underta...</td>\n",
       "      <td>2001/01/01</td>\n",
       "    </tr>\n",
       "    <tr>\n",
       "      <th>1</th>\n",
       "      <td>20010102</td>\n",
       "      <td>unknown</td>\n",
       "      <td>Status quo will not be disturbed at Ayodhya; s...</td>\n",
       "      <td>2001/01/02</td>\n",
       "    </tr>\n",
       "    <tr>\n",
       "      <th>2</th>\n",
       "      <td>20010102</td>\n",
       "      <td>unknown</td>\n",
       "      <td>Fissures in Hurriyat over Pak visit</td>\n",
       "      <td>2001/01/02</td>\n",
       "    </tr>\n",
       "    <tr>\n",
       "      <th>3</th>\n",
       "      <td>20010102</td>\n",
       "      <td>unknown</td>\n",
       "      <td>America's unwanted heading for India?</td>\n",
       "      <td>2001/01/02</td>\n",
       "    </tr>\n",
       "    <tr>\n",
       "      <th>4</th>\n",
       "      <td>20010102</td>\n",
       "      <td>unknown</td>\n",
       "      <td>For bigwigs; it is destination Goa</td>\n",
       "      <td>2001/01/02</td>\n",
       "    </tr>\n",
       "  </tbody>\n",
       "</table>\n",
       "</div>"
      ],
      "text/plain": [
       "   publish_date headline_category  \\\n",
       "0      20010101        sports.wwe   \n",
       "1      20010102           unknown   \n",
       "2      20010102           unknown   \n",
       "3      20010102           unknown   \n",
       "4      20010102           unknown   \n",
       "\n",
       "                                       headline_text published_date  \n",
       "0  win over cena satisfying but defeating underta...     2001/01/01  \n",
       "1  Status quo will not be disturbed at Ayodhya; s...     2001/01/02  \n",
       "2                Fissures in Hurriyat over Pak visit     2001/01/02  \n",
       "3              America's unwanted heading for India?     2001/01/02  \n",
       "4                 For bigwigs; it is destination Goa     2001/01/02  "
      ]
     },
     "execution_count": 6,
     "metadata": {},
     "output_type": "execute_result"
    }
   ],
   "source": [
    "ndf.head()"
   ]
  },
  {
   "cell_type": "code",
   "execution_count": 7,
   "metadata": {},
   "outputs": [],
   "source": [
    "del ndf[\"publish_date\"]\n"
   ]
  },
  {
   "cell_type": "code",
   "execution_count": 8,
   "metadata": {},
   "outputs": [
    {
     "data": {
      "text/html": [
       "<div>\n",
       "<style scoped>\n",
       "    .dataframe tbody tr th:only-of-type {\n",
       "        vertical-align: middle;\n",
       "    }\n",
       "\n",
       "    .dataframe tbody tr th {\n",
       "        vertical-align: top;\n",
       "    }\n",
       "\n",
       "    .dataframe thead th {\n",
       "        text-align: right;\n",
       "    }\n",
       "</style>\n",
       "<table border=\"1\" class=\"dataframe\">\n",
       "  <thead>\n",
       "    <tr style=\"text-align: right;\">\n",
       "      <th></th>\n",
       "      <th>headline_category</th>\n",
       "      <th>headline_text</th>\n",
       "      <th>published_date</th>\n",
       "    </tr>\n",
       "  </thead>\n",
       "  <tbody>\n",
       "    <tr>\n",
       "      <th>0</th>\n",
       "      <td>sports.wwe</td>\n",
       "      <td>win over cena satisfying but defeating underta...</td>\n",
       "      <td>2001/01/01</td>\n",
       "    </tr>\n",
       "    <tr>\n",
       "      <th>1</th>\n",
       "      <td>unknown</td>\n",
       "      <td>Status quo will not be disturbed at Ayodhya; s...</td>\n",
       "      <td>2001/01/02</td>\n",
       "    </tr>\n",
       "    <tr>\n",
       "      <th>2</th>\n",
       "      <td>unknown</td>\n",
       "      <td>Fissures in Hurriyat over Pak visit</td>\n",
       "      <td>2001/01/02</td>\n",
       "    </tr>\n",
       "    <tr>\n",
       "      <th>3</th>\n",
       "      <td>unknown</td>\n",
       "      <td>America's unwanted heading for India?</td>\n",
       "      <td>2001/01/02</td>\n",
       "    </tr>\n",
       "    <tr>\n",
       "      <th>4</th>\n",
       "      <td>unknown</td>\n",
       "      <td>For bigwigs; it is destination Goa</td>\n",
       "      <td>2001/01/02</td>\n",
       "    </tr>\n",
       "  </tbody>\n",
       "</table>\n",
       "</div>"
      ],
      "text/plain": [
       "  headline_category                                      headline_text  \\\n",
       "0        sports.wwe  win over cena satisfying but defeating underta...   \n",
       "1           unknown  Status quo will not be disturbed at Ayodhya; s...   \n",
       "2           unknown                Fissures in Hurriyat over Pak visit   \n",
       "3           unknown              America's unwanted heading for India?   \n",
       "4           unknown                 For bigwigs; it is destination Goa   \n",
       "\n",
       "  published_date  \n",
       "0     2001/01/01  \n",
       "1     2001/01/02  \n",
       "2     2001/01/02  \n",
       "3     2001/01/02  \n",
       "4     2001/01/02  "
      ]
     },
     "execution_count": 8,
     "metadata": {},
     "output_type": "execute_result"
    }
   ],
   "source": [
    "ndf.head()"
   ]
  },
  {
   "cell_type": "code",
   "execution_count": 9,
   "metadata": {},
   "outputs": [],
   "source": [
    "ndf['published_date'] = pd.to_datetime(ndf['published_date'])"
   ]
  },
  {
   "cell_type": "code",
   "execution_count": 10,
   "metadata": {},
   "outputs": [
    {
     "name": "stdout",
     "output_type": "stream",
     "text": [
      "<class 'pandas.core.frame.DataFrame'>\n",
      "RangeIndex: 3297172 entries, 0 to 3297171\n",
      "Data columns (total 3 columns):\n",
      " #   Column             Dtype         \n",
      "---  ------             -----         \n",
      " 0   headline_category  object        \n",
      " 1   headline_text      object        \n",
      " 2   published_date     datetime64[ns]\n",
      "dtypes: datetime64[ns](1), object(2)\n",
      "memory usage: 75.5+ MB\n"
     ]
    }
   ],
   "source": [
    "ndf.info()"
   ]
  },
  {
   "cell_type": "code",
   "execution_count": 11,
   "metadata": {},
   "outputs": [],
   "source": [
    "ndf = ndf[['published_date', 'headline_text']]"
   ]
  },
  {
   "cell_type": "code",
   "execution_count": 12,
   "metadata": {},
   "outputs": [],
   "source": [
    "ndf.columns = ['published_date', 'headline']"
   ]
  },
  {
   "cell_type": "code",
   "execution_count": 13,
   "metadata": {},
   "outputs": [
    {
     "data": {
      "text/html": [
       "<div>\n",
       "<style scoped>\n",
       "    .dataframe tbody tr th:only-of-type {\n",
       "        vertical-align: middle;\n",
       "    }\n",
       "\n",
       "    .dataframe tbody tr th {\n",
       "        vertical-align: top;\n",
       "    }\n",
       "\n",
       "    .dataframe thead th {\n",
       "        text-align: right;\n",
       "    }\n",
       "</style>\n",
       "<table border=\"1\" class=\"dataframe\">\n",
       "  <thead>\n",
       "    <tr style=\"text-align: right;\">\n",
       "      <th></th>\n",
       "      <th>published_date</th>\n",
       "      <th>headline</th>\n",
       "    </tr>\n",
       "  </thead>\n",
       "  <tbody>\n",
       "    <tr>\n",
       "      <th>0</th>\n",
       "      <td>2001-01-01</td>\n",
       "      <td>win over cena satisfying but defeating underta...</td>\n",
       "    </tr>\n",
       "    <tr>\n",
       "      <th>1</th>\n",
       "      <td>2001-01-02</td>\n",
       "      <td>Status quo will not be disturbed at Ayodhya; s...</td>\n",
       "    </tr>\n",
       "    <tr>\n",
       "      <th>2</th>\n",
       "      <td>2001-01-02</td>\n",
       "      <td>Fissures in Hurriyat over Pak visit</td>\n",
       "    </tr>\n",
       "    <tr>\n",
       "      <th>3</th>\n",
       "      <td>2001-01-02</td>\n",
       "      <td>America's unwanted heading for India?</td>\n",
       "    </tr>\n",
       "    <tr>\n",
       "      <th>4</th>\n",
       "      <td>2001-01-02</td>\n",
       "      <td>For bigwigs; it is destination Goa</td>\n",
       "    </tr>\n",
       "  </tbody>\n",
       "</table>\n",
       "</div>"
      ],
      "text/plain": [
       "  published_date                                           headline\n",
       "0     2001-01-01  win over cena satisfying but defeating underta...\n",
       "1     2001-01-02  Status quo will not be disturbed at Ayodhya; s...\n",
       "2     2001-01-02                Fissures in Hurriyat over Pak visit\n",
       "3     2001-01-02              America's unwanted heading for India?\n",
       "4     2001-01-02                 For bigwigs; it is destination Goa"
      ]
     },
     "execution_count": 13,
     "metadata": {},
     "output_type": "execute_result"
    }
   ],
   "source": [
    "ndf.head()"
   ]
  },
  {
   "cell_type": "markdown",
   "metadata": {},
   "source": [
    "## Headlines having same dates"
   ]
  },
  {
   "cell_type": "code",
   "execution_count": 14,
   "metadata": {},
   "outputs": [],
   "source": [
    "dict_news = {}"
   ]
  },
  {
   "cell_type": "code",
   "execution_count": 15,
   "metadata": {},
   "outputs": [],
   "source": [
    "t1 = ndf.loc[0, 'published_date']\n",
    "t2 = str(ndf.loc[0, 'headline'])\n",
    "for x in range(1, len(ndf)):\n",
    "    if ndf.loc[x, 'published_date']==t1:\n",
    "        t2 += '. ' + str(ndf.loc[x, 'headline'])\n",
    "    else:\n",
    "        dict_news[ndf.loc[x-1, 'published_date']] = t2\n",
    "        t2 = \"\"\n",
    "        t1 = ndf.loc[x, 'published_date']"
   ]
  },
  {
   "cell_type": "code",
   "execution_count": 16,
   "metadata": {},
   "outputs": [],
   "source": [
    "#len(dict_news)"
   ]
  },
  {
   "cell_type": "code",
   "execution_count": 17,
   "metadata": {},
   "outputs": [],
   "source": [
    "indexes = np.arange(0, len(dict_news))"
   ]
  },
  {
   "cell_type": "code",
   "execution_count": 18,
   "metadata": {},
   "outputs": [],
   "source": [
    "df_news = pd.DataFrame(indexes)\n",
    "df_news['Published_Date'] = dict_news.keys()"
   ]
  },
  {
   "cell_type": "code",
   "execution_count": 19,
   "metadata": {},
   "outputs": [
    {
     "data": {
      "text/html": [
       "<div>\n",
       "<style scoped>\n",
       "    .dataframe tbody tr th:only-of-type {\n",
       "        vertical-align: middle;\n",
       "    }\n",
       "\n",
       "    .dataframe tbody tr th {\n",
       "        vertical-align: top;\n",
       "    }\n",
       "\n",
       "    .dataframe thead th {\n",
       "        text-align: right;\n",
       "    }\n",
       "</style>\n",
       "<table border=\"1\" class=\"dataframe\">\n",
       "  <thead>\n",
       "    <tr style=\"text-align: right;\">\n",
       "      <th></th>\n",
       "      <th>0</th>\n",
       "      <th>Published_Date</th>\n",
       "    </tr>\n",
       "  </thead>\n",
       "  <tbody>\n",
       "    <tr>\n",
       "      <th>0</th>\n",
       "      <td>0</td>\n",
       "      <td>2001-01-01</td>\n",
       "    </tr>\n",
       "    <tr>\n",
       "      <th>1</th>\n",
       "      <td>1</td>\n",
       "      <td>2001-01-02</td>\n",
       "    </tr>\n",
       "    <tr>\n",
       "      <th>2</th>\n",
       "      <td>2</td>\n",
       "      <td>2001-01-03</td>\n",
       "    </tr>\n",
       "    <tr>\n",
       "      <th>3</th>\n",
       "      <td>3</td>\n",
       "      <td>2001-01-04</td>\n",
       "    </tr>\n",
       "    <tr>\n",
       "      <th>4</th>\n",
       "      <td>4</td>\n",
       "      <td>2001-01-05</td>\n",
       "    </tr>\n",
       "  </tbody>\n",
       "</table>\n",
       "</div>"
      ],
      "text/plain": [
       "   0 Published_Date\n",
       "0  0     2001-01-01\n",
       "1  1     2001-01-02\n",
       "2  2     2001-01-03\n",
       "3  3     2001-01-04\n",
       "4  4     2001-01-05"
      ]
     },
     "execution_count": 19,
     "metadata": {},
     "output_type": "execute_result"
    }
   ],
   "source": [
    "df_news.head()"
   ]
  },
  {
   "cell_type": "code",
   "execution_count": 20,
   "metadata": {},
   "outputs": [],
   "source": [
    "l = []\n",
    "for i in dict_news.keys():\n",
    "    l.append(dict_news[i])"
   ]
  },
  {
   "cell_type": "code",
   "execution_count": 21,
   "metadata": {},
   "outputs": [
    {
     "data": {
      "text/plain": [
       "'win over cena satisfying but defeating undertaker bigger roman reigns'"
      ]
     },
     "execution_count": 21,
     "metadata": {},
     "output_type": "execute_result"
    }
   ],
   "source": [
    "l[0]"
   ]
  },
  {
   "cell_type": "code",
   "execution_count": 22,
   "metadata": {},
   "outputs": [],
   "source": [
    "df_news['Headline'] = np.array(l)"
   ]
  },
  {
   "cell_type": "code",
   "execution_count": 23,
   "metadata": {},
   "outputs": [
    {
     "data": {
      "text/html": [
       "<div>\n",
       "<style scoped>\n",
       "    .dataframe tbody tr th:only-of-type {\n",
       "        vertical-align: middle;\n",
       "    }\n",
       "\n",
       "    .dataframe tbody tr th {\n",
       "        vertical-align: top;\n",
       "    }\n",
       "\n",
       "    .dataframe thead th {\n",
       "        text-align: right;\n",
       "    }\n",
       "</style>\n",
       "<table border=\"1\" class=\"dataframe\">\n",
       "  <thead>\n",
       "    <tr style=\"text-align: right;\">\n",
       "      <th></th>\n",
       "      <th>0</th>\n",
       "      <th>Published_Date</th>\n",
       "      <th>Headline</th>\n",
       "    </tr>\n",
       "  </thead>\n",
       "  <tbody>\n",
       "    <tr>\n",
       "      <th>0</th>\n",
       "      <td>0</td>\n",
       "      <td>2001-01-01</td>\n",
       "      <td>win over cena satisfying but defeating underta...</td>\n",
       "    </tr>\n",
       "    <tr>\n",
       "      <th>1</th>\n",
       "      <td>1</td>\n",
       "      <td>2001-01-02</td>\n",
       "      <td>. Fissures in Hurriyat over Pak visit. America...</td>\n",
       "    </tr>\n",
       "    <tr>\n",
       "      <th>2</th>\n",
       "      <td>2</td>\n",
       "      <td>2001-01-03</td>\n",
       "      <td>. Think again; Laxman tells Sangh Parivar. Hur...</td>\n",
       "    </tr>\n",
       "    <tr>\n",
       "      <th>3</th>\n",
       "      <td>3</td>\n",
       "      <td>2001-01-04</td>\n",
       "      <td>. Vajpayee gives big push to tech education; R...</td>\n",
       "    </tr>\n",
       "    <tr>\n",
       "      <th>4</th>\n",
       "      <td>4</td>\n",
       "      <td>2001-01-05</td>\n",
       "      <td>. Hawkings' day out. Light combat craft takes ...</td>\n",
       "    </tr>\n",
       "  </tbody>\n",
       "</table>\n",
       "</div>"
      ],
      "text/plain": [
       "   0 Published_Date                                           Headline\n",
       "0  0     2001-01-01  win over cena satisfying but defeating underta...\n",
       "1  1     2001-01-02  . Fissures in Hurriyat over Pak visit. America...\n",
       "2  2     2001-01-03  . Think again; Laxman tells Sangh Parivar. Hur...\n",
       "3  3     2001-01-04  . Vajpayee gives big push to tech education; R...\n",
       "4  4     2001-01-05  . Hawkings' day out. Light combat craft takes ..."
      ]
     },
     "execution_count": 23,
     "metadata": {},
     "output_type": "execute_result"
    }
   ],
   "source": [
    "df_news.head()"
   ]
  },
  {
   "cell_type": "code",
   "execution_count": 24,
   "metadata": {},
   "outputs": [],
   "source": [
    "del df_news[0]"
   ]
  },
  {
   "cell_type": "code",
   "execution_count": 25,
   "metadata": {},
   "outputs": [
    {
     "data": {
      "text/html": [
       "<div>\n",
       "<style scoped>\n",
       "    .dataframe tbody tr th:only-of-type {\n",
       "        vertical-align: middle;\n",
       "    }\n",
       "\n",
       "    .dataframe tbody tr th {\n",
       "        vertical-align: top;\n",
       "    }\n",
       "\n",
       "    .dataframe thead th {\n",
       "        text-align: right;\n",
       "    }\n",
       "</style>\n",
       "<table border=\"1\" class=\"dataframe\">\n",
       "  <thead>\n",
       "    <tr style=\"text-align: right;\">\n",
       "      <th></th>\n",
       "      <th>Published_Date</th>\n",
       "      <th>Headline</th>\n",
       "    </tr>\n",
       "  </thead>\n",
       "  <tbody>\n",
       "    <tr>\n",
       "      <th>0</th>\n",
       "      <td>2001-01-01</td>\n",
       "      <td>win over cena satisfying but defeating underta...</td>\n",
       "    </tr>\n",
       "    <tr>\n",
       "      <th>1</th>\n",
       "      <td>2001-01-02</td>\n",
       "      <td>. Fissures in Hurriyat over Pak visit. America...</td>\n",
       "    </tr>\n",
       "    <tr>\n",
       "      <th>2</th>\n",
       "      <td>2001-01-03</td>\n",
       "      <td>. Think again; Laxman tells Sangh Parivar. Hur...</td>\n",
       "    </tr>\n",
       "    <tr>\n",
       "      <th>3</th>\n",
       "      <td>2001-01-04</td>\n",
       "      <td>. Vajpayee gives big push to tech education; R...</td>\n",
       "    </tr>\n",
       "    <tr>\n",
       "      <th>4</th>\n",
       "      <td>2001-01-05</td>\n",
       "      <td>. Hawkings' day out. Light combat craft takes ...</td>\n",
       "    </tr>\n",
       "  </tbody>\n",
       "</table>\n",
       "</div>"
      ],
      "text/plain": [
       "  Published_Date                                           Headline\n",
       "0     2001-01-01  win over cena satisfying but defeating underta...\n",
       "1     2001-01-02  . Fissures in Hurriyat over Pak visit. America...\n",
       "2     2001-01-03  . Think again; Laxman tells Sangh Parivar. Hur...\n",
       "3     2001-01-04  . Vajpayee gives big push to tech education; R...\n",
       "4     2001-01-05  . Hawkings' day out. Light combat craft takes ..."
      ]
     },
     "execution_count": 25,
     "metadata": {},
     "output_type": "execute_result"
    }
   ],
   "source": [
    "df_news.head()"
   ]
  },
  {
   "cell_type": "markdown",
   "metadata": {},
   "source": [
    "# Sentiment Analysis"
   ]
  },
  {
   "cell_type": "code",
   "execution_count": null,
   "metadata": {},
   "outputs": [],
   "source": []
  },
  {
   "cell_type": "code",
   "execution_count": 27,
   "metadata": {},
   "outputs": [],
   "source": [
    "from textblob import TextBlob\n",
    "polarity = []\n",
    "subjectivity = []\n",
    "tuples = []\n",
    "for i in df_news['Headline'].values:\n",
    "    my_valence = TextBlob(i)\n",
    "    tuples.append(my_valence.sentiment)"
   ]
  },
  {
   "cell_type": "code",
   "execution_count": null,
   "metadata": {},
   "outputs": [],
   "source": []
  },
  {
   "cell_type": "code",
   "execution_count": null,
   "metadata": {},
   "outputs": [],
   "source": [
    "##from text.blob import TextBlob"
   ]
  },
  {
   "cell_type": "code",
   "execution_count": null,
   "metadata": {},
   "outputs": [],
   "source": [
    "#from textblob import TextBlob, Word, Blobber"
   ]
  },
  {
   "cell_type": "code",
   "execution_count": null,
   "metadata": {},
   "outputs": [],
   "source": [
    " pip install -U git+https://github.com/sloria/TextBlob.git@dev"
   ]
  },
  {
   "cell_type": "code",
   "execution_count": 28,
   "metadata": {},
   "outputs": [],
   "source": [
    "for i in tuples:\n",
    "    polarity.append(i[0])\n",
    "    subjectivity.append(i[1])"
   ]
  },
  {
   "cell_type": "code",
   "execution_count": 29,
   "metadata": {},
   "outputs": [],
   "source": [
    "df_news['Polarity'] = np.array(polarity)\n",
    "df_news['Subjectivity'] = np.array(subjectivity)"
   ]
  },
  {
   "cell_type": "code",
   "execution_count": 30,
   "metadata": {},
   "outputs": [
    {
     "data": {
      "text/html": [
       "<div>\n",
       "<style scoped>\n",
       "    .dataframe tbody tr th:only-of-type {\n",
       "        vertical-align: middle;\n",
       "    }\n",
       "\n",
       "    .dataframe tbody tr th {\n",
       "        vertical-align: top;\n",
       "    }\n",
       "\n",
       "    .dataframe thead th {\n",
       "        text-align: right;\n",
       "    }\n",
       "</style>\n",
       "<table border=\"1\" class=\"dataframe\">\n",
       "  <thead>\n",
       "    <tr style=\"text-align: right;\">\n",
       "      <th></th>\n",
       "      <th>Published_Date</th>\n",
       "      <th>Headline</th>\n",
       "      <th>Polarity</th>\n",
       "      <th>Subjectivity</th>\n",
       "    </tr>\n",
       "  </thead>\n",
       "  <tbody>\n",
       "    <tr>\n",
       "      <th>0</th>\n",
       "      <td>2001-01-01</td>\n",
       "      <td>win over cena satisfying but defeating underta...</td>\n",
       "      <td>0.433333</td>\n",
       "      <td>0.633333</td>\n",
       "    </tr>\n",
       "    <tr>\n",
       "      <th>1</th>\n",
       "      <td>2001-01-02</td>\n",
       "      <td>. Fissures in Hurriyat over Pak visit. America...</td>\n",
       "      <td>0.151333</td>\n",
       "      <td>0.282333</td>\n",
       "    </tr>\n",
       "    <tr>\n",
       "      <th>2</th>\n",
       "      <td>2001-01-03</td>\n",
       "      <td>. Think again; Laxman tells Sangh Parivar. Hur...</td>\n",
       "      <td>0.163636</td>\n",
       "      <td>0.363636</td>\n",
       "    </tr>\n",
       "    <tr>\n",
       "      <th>3</th>\n",
       "      <td>2001-01-04</td>\n",
       "      <td>. Vajpayee gives big push to tech education; R...</td>\n",
       "      <td>0.087961</td>\n",
       "      <td>0.446847</td>\n",
       "    </tr>\n",
       "    <tr>\n",
       "      <th>4</th>\n",
       "      <td>2001-01-05</td>\n",
       "      <td>. Hawkings' day out. Light combat craft takes ...</td>\n",
       "      <td>0.260401</td>\n",
       "      <td>0.473984</td>\n",
       "    </tr>\n",
       "  </tbody>\n",
       "</table>\n",
       "</div>"
      ],
      "text/plain": [
       "  Published_Date                                           Headline  Polarity  \\\n",
       "0     2001-01-01  win over cena satisfying but defeating underta...  0.433333   \n",
       "1     2001-01-02  . Fissures in Hurriyat over Pak visit. America...  0.151333   \n",
       "2     2001-01-03  . Think again; Laxman tells Sangh Parivar. Hur...  0.163636   \n",
       "3     2001-01-04  . Vajpayee gives big push to tech education; R...  0.087961   \n",
       "4     2001-01-05  . Hawkings' day out. Light combat craft takes ...  0.260401   \n",
       "\n",
       "   Subjectivity  \n",
       "0      0.633333  \n",
       "1      0.282333  \n",
       "2      0.363636  \n",
       "3      0.446847  \n",
       "4      0.473984  "
      ]
     },
     "execution_count": 30,
     "metadata": {},
     "output_type": "execute_result"
    }
   ],
   "source": [
    "df_news.head()"
   ]
  },
  {
   "cell_type": "code",
   "execution_count": 31,
   "metadata": {},
   "outputs": [],
   "source": [
    "temp = ['Positive', 'Negative', 'Neutral']\n",
    "temp1 = ['Factual', 'Public']\n",
    "polarity = []\n",
    "subjectivity = []\n",
    "for i in range(len(df_news)):\n",
    "    pol = df_news.iloc[i]['Polarity']\n",
    "    sub = df_news.iloc[i]['Subjectivity']\n",
    "    if pol>=0:\n",
    "        if pol>=0.2:\n",
    "            polarity.append(temp[0])\n",
    "        else:\n",
    "            polarity.append(temp[2])\n",
    "    else:\n",
    "        if pol<=-0.2:\n",
    "            polarity.append(temp[1])\n",
    "        else:\n",
    "            polarity.append(temp[2])\n",
    "    \n",
    "    if sub>=0.4:\n",
    "        subjectivity.append(temp1[1])\n",
    "    else:\n",
    "        subjectivity.append(temp1[0])"
   ]
  },
  {
   "cell_type": "code",
   "execution_count": 32,
   "metadata": {},
   "outputs": [],
   "source": [
    "df_news['Sentiment'] = polarity\n",
    "df_news['Opinion'] = subjectivity"
   ]
  },
  {
   "cell_type": "code",
   "execution_count": 33,
   "metadata": {},
   "outputs": [
    {
     "data": {
      "text/html": [
       "<div>\n",
       "<style scoped>\n",
       "    .dataframe tbody tr th:only-of-type {\n",
       "        vertical-align: middle;\n",
       "    }\n",
       "\n",
       "    .dataframe tbody tr th {\n",
       "        vertical-align: top;\n",
       "    }\n",
       "\n",
       "    .dataframe thead th {\n",
       "        text-align: right;\n",
       "    }\n",
       "</style>\n",
       "<table border=\"1\" class=\"dataframe\">\n",
       "  <thead>\n",
       "    <tr style=\"text-align: right;\">\n",
       "      <th></th>\n",
       "      <th>Published_Date</th>\n",
       "      <th>Headline</th>\n",
       "      <th>Polarity</th>\n",
       "      <th>Subjectivity</th>\n",
       "      <th>Sentiment</th>\n",
       "      <th>Opinion</th>\n",
       "    </tr>\n",
       "  </thead>\n",
       "  <tbody>\n",
       "    <tr>\n",
       "      <th>0</th>\n",
       "      <td>2001-01-01</td>\n",
       "      <td>win over cena satisfying but defeating underta...</td>\n",
       "      <td>0.433333</td>\n",
       "      <td>0.633333</td>\n",
       "      <td>Positive</td>\n",
       "      <td>Public</td>\n",
       "    </tr>\n",
       "    <tr>\n",
       "      <th>1</th>\n",
       "      <td>2001-01-02</td>\n",
       "      <td>. Fissures in Hurriyat over Pak visit. America...</td>\n",
       "      <td>0.151333</td>\n",
       "      <td>0.282333</td>\n",
       "      <td>Neutral</td>\n",
       "      <td>Factual</td>\n",
       "    </tr>\n",
       "    <tr>\n",
       "      <th>2</th>\n",
       "      <td>2001-01-03</td>\n",
       "      <td>. Think again; Laxman tells Sangh Parivar. Hur...</td>\n",
       "      <td>0.163636</td>\n",
       "      <td>0.363636</td>\n",
       "      <td>Neutral</td>\n",
       "      <td>Factual</td>\n",
       "    </tr>\n",
       "    <tr>\n",
       "      <th>3</th>\n",
       "      <td>2001-01-04</td>\n",
       "      <td>. Vajpayee gives big push to tech education; R...</td>\n",
       "      <td>0.087961</td>\n",
       "      <td>0.446847</td>\n",
       "      <td>Neutral</td>\n",
       "      <td>Public</td>\n",
       "    </tr>\n",
       "    <tr>\n",
       "      <th>4</th>\n",
       "      <td>2001-01-05</td>\n",
       "      <td>. Hawkings' day out. Light combat craft takes ...</td>\n",
       "      <td>0.260401</td>\n",
       "      <td>0.473984</td>\n",
       "      <td>Positive</td>\n",
       "      <td>Public</td>\n",
       "    </tr>\n",
       "  </tbody>\n",
       "</table>\n",
       "</div>"
      ],
      "text/plain": [
       "  Published_Date                                           Headline  Polarity  \\\n",
       "0     2001-01-01  win over cena satisfying but defeating underta...  0.433333   \n",
       "1     2001-01-02  . Fissures in Hurriyat over Pak visit. America...  0.151333   \n",
       "2     2001-01-03  . Think again; Laxman tells Sangh Parivar. Hur...  0.163636   \n",
       "3     2001-01-04  . Vajpayee gives big push to tech education; R...  0.087961   \n",
       "4     2001-01-05  . Hawkings' day out. Light combat craft takes ...  0.260401   \n",
       "\n",
       "   Subjectivity Sentiment  Opinion  \n",
       "0      0.633333  Positive   Public  \n",
       "1      0.282333   Neutral  Factual  \n",
       "2      0.363636   Neutral  Factual  \n",
       "3      0.446847   Neutral   Public  \n",
       "4      0.473984  Positive   Public  "
      ]
     },
     "execution_count": 33,
     "metadata": {},
     "output_type": "execute_result"
    }
   ],
   "source": [
    "df_news.head()"
   ]
  },
  {
   "cell_type": "code",
   "execution_count": 34,
   "metadata": {},
   "outputs": [
    {
     "data": {
      "text/html": [
       "<div>\n",
       "<style scoped>\n",
       "    .dataframe tbody tr th:only-of-type {\n",
       "        vertical-align: middle;\n",
       "    }\n",
       "\n",
       "    .dataframe tbody tr th {\n",
       "        vertical-align: top;\n",
       "    }\n",
       "\n",
       "    .dataframe thead th {\n",
       "        text-align: right;\n",
       "    }\n",
       "</style>\n",
       "<table border=\"1\" class=\"dataframe\">\n",
       "  <thead>\n",
       "    <tr style=\"text-align: right;\">\n",
       "      <th></th>\n",
       "      <th>Published_Date</th>\n",
       "      <th>Headline</th>\n",
       "      <th>Polarity</th>\n",
       "      <th>Subjectivity</th>\n",
       "      <th>Sentiment</th>\n",
       "      <th>Opinion</th>\n",
       "    </tr>\n",
       "  </thead>\n",
       "  <tbody>\n",
       "    <tr>\n",
       "      <th>7074</th>\n",
       "      <td>2020-06-25</td>\n",
       "      <td>. Telangana: Senior Congress leader tests+ve f...</td>\n",
       "      <td>0.026626</td>\n",
       "      <td>0.403808</td>\n",
       "      <td>Neutral</td>\n",
       "      <td>Public</td>\n",
       "    </tr>\n",
       "    <tr>\n",
       "      <th>7075</th>\n",
       "      <td>2020-06-26</td>\n",
       "      <td>. up hammers out 60k proposals of rs 870cr ahe...</td>\n",
       "      <td>0.067991</td>\n",
       "      <td>0.381251</td>\n",
       "      <td>Neutral</td>\n",
       "      <td>Factual</td>\n",
       "    </tr>\n",
       "    <tr>\n",
       "      <th>7076</th>\n",
       "      <td>2020-06-27</td>\n",
       "      <td>. Major Ravi to helm movie on Indo-Chinese con...</td>\n",
       "      <td>0.079290</td>\n",
       "      <td>0.398808</td>\n",
       "      <td>Neutral</td>\n",
       "      <td>Factual</td>\n",
       "    </tr>\n",
       "    <tr>\n",
       "      <th>7077</th>\n",
       "      <td>2020-06-28</td>\n",
       "      <td>. Sports without spectators: 'Who will cheer f...</td>\n",
       "      <td>0.056252</td>\n",
       "      <td>0.401576</td>\n",
       "      <td>Neutral</td>\n",
       "      <td>Public</td>\n",
       "    </tr>\n",
       "    <tr>\n",
       "      <th>7078</th>\n",
       "      <td>2020-06-29</td>\n",
       "      <td>. Anna Eden gets creative with husband and MP ...</td>\n",
       "      <td>0.059637</td>\n",
       "      <td>0.392916</td>\n",
       "      <td>Neutral</td>\n",
       "      <td>Factual</td>\n",
       "    </tr>\n",
       "  </tbody>\n",
       "</table>\n",
       "</div>"
      ],
      "text/plain": [
       "     Published_Date                                           Headline  \\\n",
       "7074     2020-06-25  . Telangana: Senior Congress leader tests+ve f...   \n",
       "7075     2020-06-26  . up hammers out 60k proposals of rs 870cr ahe...   \n",
       "7076     2020-06-27  . Major Ravi to helm movie on Indo-Chinese con...   \n",
       "7077     2020-06-28  . Sports without spectators: 'Who will cheer f...   \n",
       "7078     2020-06-29  . Anna Eden gets creative with husband and MP ...   \n",
       "\n",
       "      Polarity  Subjectivity Sentiment  Opinion  \n",
       "7074  0.026626      0.403808   Neutral   Public  \n",
       "7075  0.067991      0.381251   Neutral  Factual  \n",
       "7076  0.079290      0.398808   Neutral  Factual  \n",
       "7077  0.056252      0.401576   Neutral   Public  \n",
       "7078  0.059637      0.392916   Neutral  Factual  "
      ]
     },
     "execution_count": 34,
     "metadata": {},
     "output_type": "execute_result"
    }
   ],
   "source": [
    "df_news.tail()"
   ]
  },
  {
   "cell_type": "code",
   "execution_count": 35,
   "metadata": {},
   "outputs": [
    {
     "name": "stdout",
     "output_type": "stream",
     "text": [
      "<class 'pandas.core.frame.DataFrame'>\n",
      "RangeIndex: 7079 entries, 0 to 7078\n",
      "Data columns (total 6 columns):\n",
      " #   Column          Non-Null Count  Dtype         \n",
      "---  ------          --------------  -----         \n",
      " 0   Published_Date  7079 non-null   datetime64[ns]\n",
      " 1   Headline        7079 non-null   object        \n",
      " 2   Polarity        7079 non-null   float64       \n",
      " 3   Subjectivity    7079 non-null   float64       \n",
      " 4   Sentiment       7079 non-null   object        \n",
      " 5   Opinion         7079 non-null   object        \n",
      "dtypes: datetime64[ns](1), float64(2), object(3)\n",
      "memory usage: 332.0+ KB\n"
     ]
    }
   ],
   "source": [
    "df_news.info()"
   ]
  },
  {
   "cell_type": "markdown",
   "metadata": {},
   "source": [
    "# Visualization of Distributed Sentiments"
   ]
  },
  {
   "cell_type": "code",
   "execution_count": 36,
   "metadata": {},
   "outputs": [
    {
     "data": {
      "image/png": "[encoded data removed]",
      "text/plain": [
       "<Figure size 432x288 with 1 Axes>"
      ]
     },
     "metadata": {
      "needs_background": "light"
     },
     "output_type": "display_data"
    }
   ],
   "source": [
    "#Histogram Subjectivity\n",
    "plt.figure(figsize=(6,4))\n",
    "df_news['Subjectivity'].hist()\n",
    "plt.show()"
   ]
  },
  {
   "cell_type": "code",
   "execution_count": 37,
   "metadata": {},
   "outputs": [
    {
     "data": {
      "image/png": "[encoded data removed]",
      "text/plain": [
       "<Figure size 432x288 with 1 Axes>"
      ]
     },
     "metadata": {
      "needs_background": "light"
     },
     "output_type": "display_data"
    }
   ],
   "source": [
    "#histogram Polarity\n",
    "plt.figure(figsize=(6,4))\n",
    "df_news['Polarity'].hist()\n",
    "plt.show()"
   ]
  },
  {
   "cell_type": "code",
   "execution_count": 38,
   "metadata": {},
   "outputs": [
    {
     "data": {
      "text/plain": [
       "<matplotlib.axes._subplots.AxesSubplot at 0x16810659790>"
      ]
     },
     "execution_count": 38,
     "metadata": {},
     "output_type": "execute_result"
    },
    {
     "data": {
      "image/png": "[encoded data removed]",
      "text/plain": [
       "<Figure size 432x288 with 1 Axes>"
      ]
     },
     "metadata": {
      "needs_background": "light"
     },
     "output_type": "display_data"
    }
   ],
   "source": [
    "#countplot\n",
    "sns.countplot(df_news['Opinion'])"
   ]
  },
  {
   "cell_type": "markdown",
   "metadata": {},
   "source": [
    "# Loading Historical Stock Price Data"
   ]
  },
  {
   "cell_type": "code",
   "execution_count": 40,
   "metadata": {},
   "outputs": [],
   "source": [
    "sdf = pd.read_csv('BSESN.csv')"
   ]
  },
  {
   "cell_type": "code",
   "execution_count": 41,
   "metadata": {},
   "outputs": [
    {
     "data": {
      "text/html": [
       "<div>\n",
       "<style scoped>\n",
       "    .dataframe tbody tr th:only-of-type {\n",
       "        vertical-align: middle;\n",
       "    }\n",
       "\n",
       "    .dataframe tbody tr th {\n",
       "        vertical-align: top;\n",
       "    }\n",
       "\n",
       "    .dataframe thead th {\n",
       "        text-align: right;\n",
       "    }\n",
       "</style>\n",
       "<table border=\"1\" class=\"dataframe\">\n",
       "  <thead>\n",
       "    <tr style=\"text-align: right;\">\n",
       "      <th></th>\n",
       "      <th>Date</th>\n",
       "      <th>Open</th>\n",
       "      <th>High</th>\n",
       "      <th>Low</th>\n",
       "      <th>Close</th>\n",
       "      <th>Adj Close</th>\n",
       "      <th>Volume</th>\n",
       "    </tr>\n",
       "  </thead>\n",
       "  <tbody>\n",
       "    <tr>\n",
       "      <th>0</th>\n",
       "      <td>2019-01-10</td>\n",
       "      <td>36258.000000</td>\n",
       "      <td>36269.308594</td>\n",
       "      <td>36070.761719</td>\n",
       "      <td>36106.500000</td>\n",
       "      <td>36106.500000</td>\n",
       "      <td>17331500.0</td>\n",
       "    </tr>\n",
       "    <tr>\n",
       "      <th>1</th>\n",
       "      <td>2019-01-11</td>\n",
       "      <td>36191.871094</td>\n",
       "      <td>36214.261719</td>\n",
       "      <td>35840.601563</td>\n",
       "      <td>36009.839844</td>\n",
       "      <td>36009.839844</td>\n",
       "      <td>18100.0</td>\n",
       "    </tr>\n",
       "    <tr>\n",
       "      <th>2</th>\n",
       "      <td>2019-01-14</td>\n",
       "      <td>36113.269531</td>\n",
       "      <td>36124.941406</td>\n",
       "      <td>35691.750000</td>\n",
       "      <td>35853.558594</td>\n",
       "      <td>35853.558594</td>\n",
       "      <td>24100.0</td>\n",
       "    </tr>\n",
       "    <tr>\n",
       "      <th>3</th>\n",
       "      <td>2019-01-15</td>\n",
       "      <td>35950.078125</td>\n",
       "      <td>36349.308594</td>\n",
       "      <td>35950.078125</td>\n",
       "      <td>36318.328125</td>\n",
       "      <td>36318.328125</td>\n",
       "      <td>24000.0</td>\n",
       "    </tr>\n",
       "    <tr>\n",
       "      <th>4</th>\n",
       "      <td>2019-01-16</td>\n",
       "      <td>36370.738281</td>\n",
       "      <td>36462.031250</td>\n",
       "      <td>36278.609375</td>\n",
       "      <td>36321.289063</td>\n",
       "      <td>36321.289063</td>\n",
       "      <td>16400.0</td>\n",
       "    </tr>\n",
       "  </tbody>\n",
       "</table>\n",
       "</div>"
      ],
      "text/plain": [
       "         Date          Open          High           Low         Close  \\\n",
       "0  2019-01-10  36258.000000  36269.308594  36070.761719  36106.500000   \n",
       "1  2019-01-11  36191.871094  36214.261719  35840.601563  36009.839844   \n",
       "2  2019-01-14  36113.269531  36124.941406  35691.750000  35853.558594   \n",
       "3  2019-01-15  35950.078125  36349.308594  35950.078125  36318.328125   \n",
       "4  2019-01-16  36370.738281  36462.031250  36278.609375  36321.289063   \n",
       "\n",
       "      Adj Close      Volume  \n",
       "0  36106.500000  17331500.0  \n",
       "1  36009.839844     18100.0  \n",
       "2  35853.558594     24100.0  \n",
       "3  36318.328125     24000.0  \n",
       "4  36321.289063     16400.0  "
      ]
     },
     "execution_count": 41,
     "metadata": {},
     "output_type": "execute_result"
    }
   ],
   "source": [
    "sdf.head()"
   ]
  },
  {
   "cell_type": "code",
   "execution_count": 42,
   "metadata": {},
   "outputs": [
    {
     "data": {
      "text/plain": [
       "(439, 7)"
      ]
     },
     "execution_count": 42,
     "metadata": {},
     "output_type": "execute_result"
    }
   ],
   "source": [
    "sdf.shape"
   ]
  },
  {
   "cell_type": "code",
   "execution_count": 43,
   "metadata": {},
   "outputs": [
    {
     "name": "stdout",
     "output_type": "stream",
     "text": [
      "<class 'pandas.core.frame.DataFrame'>\n",
      "RangeIndex: 439 entries, 0 to 438\n",
      "Data columns (total 7 columns):\n",
      " #   Column     Non-Null Count  Dtype  \n",
      "---  ------     --------------  -----  \n",
      " 0   Date       439 non-null    object \n",
      " 1   Open       437 non-null    float64\n",
      " 2   High       437 non-null    float64\n",
      " 3   Low        437 non-null    float64\n",
      " 4   Close      437 non-null    float64\n",
      " 5   Adj Close  437 non-null    float64\n",
      " 6   Volume     437 non-null    float64\n",
      "dtypes: float64(6), object(1)\n",
      "memory usage: 24.1+ KB\n"
     ]
    }
   ],
   "source": [
    "sdf.info()"
   ]
  },
  {
   "cell_type": "code",
   "execution_count": 44,
   "metadata": {},
   "outputs": [
    {
     "data": {
      "text/html": [
       "<div>\n",
       "<style scoped>\n",
       "    .dataframe tbody tr th:only-of-type {\n",
       "        vertical-align: middle;\n",
       "    }\n",
       "\n",
       "    .dataframe tbody tr th {\n",
       "        vertical-align: top;\n",
       "    }\n",
       "\n",
       "    .dataframe thead th {\n",
       "        text-align: right;\n",
       "    }\n",
       "</style>\n",
       "<table border=\"1\" class=\"dataframe\">\n",
       "  <thead>\n",
       "    <tr style=\"text-align: right;\">\n",
       "      <th></th>\n",
       "      <th>Open</th>\n",
       "      <th>High</th>\n",
       "      <th>Low</th>\n",
       "      <th>Close</th>\n",
       "      <th>Adj Close</th>\n",
       "      <th>Volume</th>\n",
       "    </tr>\n",
       "  </thead>\n",
       "  <tbody>\n",
       "    <tr>\n",
       "      <th>count</th>\n",
       "      <td>437.000000</td>\n",
       "      <td>437.000000</td>\n",
       "      <td>437.000000</td>\n",
       "      <td>437.000000</td>\n",
       "      <td>437.000000</td>\n",
       "      <td>4.370000e+02</td>\n",
       "    </tr>\n",
       "    <tr>\n",
       "      <th>mean</th>\n",
       "      <td>37601.877941</td>\n",
       "      <td>37819.775377</td>\n",
       "      <td>37272.648549</td>\n",
       "      <td>37534.149631</td>\n",
       "      <td>37534.149631</td>\n",
       "      <td>3.222979e+05</td>\n",
       "    </tr>\n",
       "    <tr>\n",
       "      <th>std</th>\n",
       "      <td>3115.923805</td>\n",
       "      <td>3003.167759</td>\n",
       "      <td>3232.524370</td>\n",
       "      <td>3119.733197</td>\n",
       "      <td>3119.733197</td>\n",
       "      <td>2.462952e+06</td>\n",
       "    </tr>\n",
       "    <tr>\n",
       "      <th>min</th>\n",
       "      <td>26499.810547</td>\n",
       "      <td>27462.869141</td>\n",
       "      <td>25638.900391</td>\n",
       "      <td>25981.240234</td>\n",
       "      <td>25981.240234</td>\n",
       "      <td>2.800000e+03</td>\n",
       "    </tr>\n",
       "    <tr>\n",
       "      <th>25%</th>\n",
       "      <td>36417.578125</td>\n",
       "      <td>36622.769531</td>\n",
       "      <td>36170.800781</td>\n",
       "      <td>36395.031250</td>\n",
       "      <td>36395.031250</td>\n",
       "      <td>1.480000e+04</td>\n",
       "    </tr>\n",
       "    <tr>\n",
       "      <th>50%</th>\n",
       "      <td>38283.898438</td>\n",
       "      <td>38475.929688</td>\n",
       "      <td>37952.101563</td>\n",
       "      <td>38182.078125</td>\n",
       "      <td>38182.078125</td>\n",
       "      <td>1.860000e+04</td>\n",
       "    </tr>\n",
       "    <tr>\n",
       "      <th>75%</th>\n",
       "      <td>39679.351563</td>\n",
       "      <td>39838.488281</td>\n",
       "      <td>39423.269531</td>\n",
       "      <td>39683.289063</td>\n",
       "      <td>39683.289063</td>\n",
       "      <td>2.540000e+04</td>\n",
       "    </tr>\n",
       "    <tr>\n",
       "      <th>max</th>\n",
       "      <td>42263.000000</td>\n",
       "      <td>42273.871094</td>\n",
       "      <td>41850.289063</td>\n",
       "      <td>41952.628906</td>\n",
       "      <td>41952.628906</td>\n",
       "      <td>3.181510e+07</td>\n",
       "    </tr>\n",
       "  </tbody>\n",
       "</table>\n",
       "</div>"
      ],
      "text/plain": [
       "               Open          High           Low         Close     Adj Close  \\\n",
       "count    437.000000    437.000000    437.000000    437.000000    437.000000   \n",
       "mean   37601.877941  37819.775377  37272.648549  37534.149631  37534.149631   \n",
       "std     3115.923805   3003.167759   3232.524370   3119.733197   3119.733197   \n",
       "min    26499.810547  27462.869141  25638.900391  25981.240234  25981.240234   \n",
       "25%    36417.578125  36622.769531  36170.800781  36395.031250  36395.031250   \n",
       "50%    38283.898438  38475.929688  37952.101563  38182.078125  38182.078125   \n",
       "75%    39679.351563  39838.488281  39423.269531  39683.289063  39683.289063   \n",
       "max    42263.000000  42273.871094  41850.289063  41952.628906  41952.628906   \n",
       "\n",
       "             Volume  \n",
       "count  4.370000e+02  \n",
       "mean   3.222979e+05  \n",
       "std    2.462952e+06  \n",
       "min    2.800000e+03  \n",
       "25%    1.480000e+04  \n",
       "50%    1.860000e+04  \n",
       "75%    2.540000e+04  \n",
       "max    3.181510e+07  "
      ]
     },
     "execution_count": 44,
     "metadata": {},
     "output_type": "execute_result"
    }
   ],
   "source": [
    "sdf.describe()"
   ]
  },
  {
   "cell_type": "code",
   "execution_count": 45,
   "metadata": {},
   "outputs": [],
   "source": [
    "sdf['hl_pct']=((sdf['High']-sdf['Low'])/sdf['Low'])*100\n",
    "sdf['pct_change']=((sdf['Close']-sdf['Open'])/sdf['Open'])*100"
   ]
  },
  {
   "cell_type": "code",
   "execution_count": 46,
   "metadata": {},
   "outputs": [],
   "source": [
    "sdf = sdf.drop(['Open','High','Close','Low'], axis=1)"
   ]
  },
  {
   "cell_type": "code",
   "execution_count": 47,
   "metadata": {},
   "outputs": [
    {
     "data": {
      "text/html": [
       "<div>\n",
       "<style scoped>\n",
       "    .dataframe tbody tr th:only-of-type {\n",
       "        vertical-align: middle;\n",
       "    }\n",
       "\n",
       "    .dataframe tbody tr th {\n",
       "        vertical-align: top;\n",
       "    }\n",
       "\n",
       "    .dataframe thead th {\n",
       "        text-align: right;\n",
       "    }\n",
       "</style>\n",
       "<table border=\"1\" class=\"dataframe\">\n",
       "  <thead>\n",
       "    <tr style=\"text-align: right;\">\n",
       "      <th></th>\n",
       "      <th>Date</th>\n",
       "      <th>Adj Close</th>\n",
       "      <th>Volume</th>\n",
       "      <th>hl_pct</th>\n",
       "      <th>pct_change</th>\n",
       "    </tr>\n",
       "  </thead>\n",
       "  <tbody>\n",
       "    <tr>\n",
       "      <th>0</th>\n",
       "      <td>2019-01-10</td>\n",
       "      <td>36106.500000</td>\n",
       "      <td>17331500.0</td>\n",
       "      <td>0.550437</td>\n",
       "      <td>-0.417839</td>\n",
       "    </tr>\n",
       "    <tr>\n",
       "      <th>1</th>\n",
       "      <td>2019-01-11</td>\n",
       "      <td>36009.839844</td>\n",
       "      <td>18100.0</td>\n",
       "      <td>1.042561</td>\n",
       "      <td>-0.502962</td>\n",
       "    </tr>\n",
       "    <tr>\n",
       "      <th>2</th>\n",
       "      <td>2019-01-14</td>\n",
       "      <td>35853.558594</td>\n",
       "      <td>24100.0</td>\n",
       "      <td>1.213702</td>\n",
       "      <td>-0.719157</td>\n",
       "    </tr>\n",
       "    <tr>\n",
       "      <th>3</th>\n",
       "      <td>2019-01-15</td>\n",
       "      <td>36318.328125</td>\n",
       "      <td>24000.0</td>\n",
       "      <td>1.110513</td>\n",
       "      <td>1.024337</td>\n",
       "    </tr>\n",
       "    <tr>\n",
       "      <th>4</th>\n",
       "      <td>2019-01-16</td>\n",
       "      <td>36321.289063</td>\n",
       "      <td>16400.0</td>\n",
       "      <td>0.505592</td>\n",
       "      <td>-0.135959</td>\n",
       "    </tr>\n",
       "  </tbody>\n",
       "</table>\n",
       "</div>"
      ],
      "text/plain": [
       "         Date     Adj Close      Volume    hl_pct  pct_change\n",
       "0  2019-01-10  36106.500000  17331500.0  0.550437   -0.417839\n",
       "1  2019-01-11  36009.839844     18100.0  1.042561   -0.502962\n",
       "2  2019-01-14  35853.558594     24100.0  1.213702   -0.719157\n",
       "3  2019-01-15  36318.328125     24000.0  1.110513    1.024337\n",
       "4  2019-01-16  36321.289063     16400.0  0.505592   -0.135959"
      ]
     },
     "execution_count": 47,
     "metadata": {},
     "output_type": "execute_result"
    }
   ],
   "source": [
    "sdf.head()"
   ]
  },
  {
   "cell_type": "code",
   "execution_count": 48,
   "metadata": {},
   "outputs": [],
   "source": [
    "sdf['Date'] = pd.to_datetime(sdf['Date'])"
   ]
  },
  {
   "cell_type": "code",
   "execution_count": 49,
   "metadata": {},
   "outputs": [
    {
     "data": {
      "text/html": [
       "<div>\n",
       "<style scoped>\n",
       "    .dataframe tbody tr th:only-of-type {\n",
       "        vertical-align: middle;\n",
       "    }\n",
       "\n",
       "    .dataframe tbody tr th {\n",
       "        vertical-align: top;\n",
       "    }\n",
       "\n",
       "    .dataframe thead th {\n",
       "        text-align: right;\n",
       "    }\n",
       "</style>\n",
       "<table border=\"1\" class=\"dataframe\">\n",
       "  <thead>\n",
       "    <tr style=\"text-align: right;\">\n",
       "      <th></th>\n",
       "      <th>Date</th>\n",
       "      <th>Adj Close</th>\n",
       "      <th>Volume</th>\n",
       "      <th>hl_pct</th>\n",
       "      <th>pct_change</th>\n",
       "    </tr>\n",
       "  </thead>\n",
       "  <tbody>\n",
       "    <tr>\n",
       "      <th>0</th>\n",
       "      <td>2019-01-10</td>\n",
       "      <td>36106.500000</td>\n",
       "      <td>17331500.0</td>\n",
       "      <td>0.550437</td>\n",
       "      <td>-0.417839</td>\n",
       "    </tr>\n",
       "    <tr>\n",
       "      <th>1</th>\n",
       "      <td>2019-01-11</td>\n",
       "      <td>36009.839844</td>\n",
       "      <td>18100.0</td>\n",
       "      <td>1.042561</td>\n",
       "      <td>-0.502962</td>\n",
       "    </tr>\n",
       "    <tr>\n",
       "      <th>2</th>\n",
       "      <td>2019-01-14</td>\n",
       "      <td>35853.558594</td>\n",
       "      <td>24100.0</td>\n",
       "      <td>1.213702</td>\n",
       "      <td>-0.719157</td>\n",
       "    </tr>\n",
       "    <tr>\n",
       "      <th>3</th>\n",
       "      <td>2019-01-15</td>\n",
       "      <td>36318.328125</td>\n",
       "      <td>24000.0</td>\n",
       "      <td>1.110513</td>\n",
       "      <td>1.024337</td>\n",
       "    </tr>\n",
       "    <tr>\n",
       "      <th>4</th>\n",
       "      <td>2019-01-16</td>\n",
       "      <td>36321.289063</td>\n",
       "      <td>16400.0</td>\n",
       "      <td>0.505592</td>\n",
       "      <td>-0.135959</td>\n",
       "    </tr>\n",
       "  </tbody>\n",
       "</table>\n",
       "</div>"
      ],
      "text/plain": [
       "        Date     Adj Close      Volume    hl_pct  pct_change\n",
       "0 2019-01-10  36106.500000  17331500.0  0.550437   -0.417839\n",
       "1 2019-01-11  36009.839844     18100.0  1.042561   -0.502962\n",
       "2 2019-01-14  35853.558594     24100.0  1.213702   -0.719157\n",
       "3 2019-01-15  36318.328125     24000.0  1.110513    1.024337\n",
       "4 2019-01-16  36321.289063     16400.0  0.505592   -0.135959"
      ]
     },
     "execution_count": 49,
     "metadata": {},
     "output_type": "execute_result"
    }
   ],
   "source": [
    "sdf.head()"
   ]
  },
  {
   "cell_type": "code",
   "execution_count": 50,
   "metadata": {},
   "outputs": [
    {
     "name": "stdout",
     "output_type": "stream",
     "text": [
      "<class 'pandas.core.frame.DataFrame'>\n",
      "Int64Index: 437 entries, 0 to 438\n",
      "Data columns (total 5 columns):\n",
      " #   Column      Non-Null Count  Dtype         \n",
      "---  ------      --------------  -----         \n",
      " 0   Date        437 non-null    datetime64[ns]\n",
      " 1   Adj Close   437 non-null    float64       \n",
      " 2   Volume      437 non-null    float64       \n",
      " 3   hl_pct      437 non-null    float64       \n",
      " 4   pct_change  437 non-null    float64       \n",
      "dtypes: datetime64[ns](1), float64(4)\n",
      "memory usage: 20.5 KB\n"
     ]
    }
   ],
   "source": [
    "sdf = sdf.dropna()\n",
    "sdf.info()"
   ]
  },
  {
   "cell_type": "code",
   "execution_count": 51,
   "metadata": {},
   "outputs": [],
   "source": [
    "df_news.columns = ['Date', 'Headline', 'Polarity', 'Subjectivity', 'Sentiment', 'Opinion']"
   ]
  },
  {
   "cell_type": "markdown",
   "metadata": {},
   "source": [
    "# Merging the News and Stocks Datasets on the basis of Dates"
   ]
  },
  {
   "cell_type": "code",
   "execution_count": 52,
   "metadata": {},
   "outputs": [],
   "source": [
    "mdf = df_news.merge(sdf, how='inner', on='Date', left_index = True)"
   ]
  },
  {
   "cell_type": "code",
   "execution_count": 53,
   "metadata": {},
   "outputs": [
    {
     "data": {
      "text/html": [
       "<div>\n",
       "<style scoped>\n",
       "    .dataframe tbody tr th:only-of-type {\n",
       "        vertical-align: middle;\n",
       "    }\n",
       "\n",
       "    .dataframe tbody tr th {\n",
       "        vertical-align: top;\n",
       "    }\n",
       "\n",
       "    .dataframe thead th {\n",
       "        text-align: right;\n",
       "    }\n",
       "</style>\n",
       "<table border=\"1\" class=\"dataframe\">\n",
       "  <thead>\n",
       "    <tr style=\"text-align: right;\">\n",
       "      <th></th>\n",
       "      <th>Date</th>\n",
       "      <th>Headline</th>\n",
       "      <th>Polarity</th>\n",
       "      <th>Subjectivity</th>\n",
       "      <th>Sentiment</th>\n",
       "      <th>Opinion</th>\n",
       "      <th>Adj Close</th>\n",
       "      <th>Volume</th>\n",
       "      <th>hl_pct</th>\n",
       "      <th>pct_change</th>\n",
       "    </tr>\n",
       "  </thead>\n",
       "  <tbody>\n",
       "    <tr>\n",
       "      <th>0</th>\n",
       "      <td>2019-01-10</td>\n",
       "      <td>. Dubbing boom has voice actors make hay. This...</td>\n",
       "      <td>0.067545</td>\n",
       "      <td>0.377127</td>\n",
       "      <td>Neutral</td>\n",
       "      <td>Factual</td>\n",
       "      <td>36106.500000</td>\n",
       "      <td>17331500.0</td>\n",
       "      <td>0.550437</td>\n",
       "      <td>-0.417839</td>\n",
       "    </tr>\n",
       "    <tr>\n",
       "      <th>1</th>\n",
       "      <td>2019-01-11</td>\n",
       "      <td>. Punjab Agro to export 200 MT kinnow to UAE. ...</td>\n",
       "      <td>0.042883</td>\n",
       "      <td>0.388607</td>\n",
       "      <td>Neutral</td>\n",
       "      <td>Factual</td>\n",
       "      <td>36009.839844</td>\n",
       "      <td>18100.0</td>\n",
       "      <td>1.042561</td>\n",
       "      <td>-0.502962</td>\n",
       "    </tr>\n",
       "    <tr>\n",
       "      <th>2</th>\n",
       "      <td>2019-01-14</td>\n",
       "      <td>. makar sankranti quotes wishes messages image...</td>\n",
       "      <td>0.087006</td>\n",
       "      <td>0.381616</td>\n",
       "      <td>Neutral</td>\n",
       "      <td>Factual</td>\n",
       "      <td>35853.558594</td>\n",
       "      <td>24100.0</td>\n",
       "      <td>1.213702</td>\n",
       "      <td>-0.719157</td>\n",
       "    </tr>\n",
       "    <tr>\n",
       "      <th>3</th>\n",
       "      <td>2019-01-15</td>\n",
       "      <td>. City colleges find space to grow veggies; fr...</td>\n",
       "      <td>0.071534</td>\n",
       "      <td>0.394132</td>\n",
       "      <td>Neutral</td>\n",
       "      <td>Factual</td>\n",
       "      <td>36318.328125</td>\n",
       "      <td>24000.0</td>\n",
       "      <td>1.110513</td>\n",
       "      <td>1.024337</td>\n",
       "    </tr>\n",
       "    <tr>\n",
       "      <th>4</th>\n",
       "      <td>2019-01-16</td>\n",
       "      <td>. BSSS students do Nukkad Natak for road safet...</td>\n",
       "      <td>0.039724</td>\n",
       "      <td>0.398775</td>\n",
       "      <td>Neutral</td>\n",
       "      <td>Factual</td>\n",
       "      <td>36321.289063</td>\n",
       "      <td>16400.0</td>\n",
       "      <td>0.505592</td>\n",
       "      <td>-0.135959</td>\n",
       "    </tr>\n",
       "  </tbody>\n",
       "</table>\n",
       "</div>"
      ],
      "text/plain": [
       "        Date                                           Headline  Polarity  \\\n",
       "0 2019-01-10  . Dubbing boom has voice actors make hay. This...  0.067545   \n",
       "1 2019-01-11  . Punjab Agro to export 200 MT kinnow to UAE. ...  0.042883   \n",
       "2 2019-01-14  . makar sankranti quotes wishes messages image...  0.087006   \n",
       "3 2019-01-15  . City colleges find space to grow veggies; fr...  0.071534   \n",
       "4 2019-01-16  . BSSS students do Nukkad Natak for road safet...  0.039724   \n",
       "\n",
       "   Subjectivity Sentiment  Opinion     Adj Close      Volume    hl_pct  \\\n",
       "0      0.377127   Neutral  Factual  36106.500000  17331500.0  0.550437   \n",
       "1      0.388607   Neutral  Factual  36009.839844     18100.0  1.042561   \n",
       "2      0.381616   Neutral  Factual  35853.558594     24100.0  1.213702   \n",
       "3      0.394132   Neutral  Factual  36318.328125     24000.0  1.110513   \n",
       "4      0.398775   Neutral  Factual  36321.289063     16400.0  0.505592   \n",
       "\n",
       "   pct_change  \n",
       "0   -0.417839  \n",
       "1   -0.502962  \n",
       "2   -0.719157  \n",
       "3    1.024337  \n",
       "4   -0.135959  "
      ]
     },
     "execution_count": 53,
     "metadata": {},
     "output_type": "execute_result"
    }
   ],
   "source": [
    "mdf.head()"
   ]
  },
  {
   "cell_type": "code",
   "execution_count": 54,
   "metadata": {},
   "outputs": [
    {
     "name": "stdout",
     "output_type": "stream",
     "text": [
      "<class 'pandas.core.frame.DataFrame'>\n",
      "Int64Index: 355 entries, 0 to 356\n",
      "Data columns (total 10 columns):\n",
      " #   Column        Non-Null Count  Dtype         \n",
      "---  ------        --------------  -----         \n",
      " 0   Date          355 non-null    datetime64[ns]\n",
      " 1   Headline      355 non-null    object        \n",
      " 2   Polarity      355 non-null    float64       \n",
      " 3   Subjectivity  355 non-null    float64       \n",
      " 4   Sentiment     355 non-null    object        \n",
      " 5   Opinion       355 non-null    object        \n",
      " 6   Adj Close     355 non-null    float64       \n",
      " 7   Volume        355 non-null    float64       \n",
      " 8   hl_pct        355 non-null    float64       \n",
      " 9   pct_change    355 non-null    float64       \n",
      "dtypes: datetime64[ns](1), float64(6), object(3)\n",
      "memory usage: 30.5+ KB\n"
     ]
    }
   ],
   "source": [
    "mdf.info()"
   ]
  },
  {
   "cell_type": "markdown",
   "metadata": {},
   "source": [
    "## Required Column"
   ]
  },
  {
   "cell_type": "code",
   "execution_count": 55,
   "metadata": {},
   "outputs": [
    {
     "data": {
      "text/html": [
       "<div>\n",
       "<style scoped>\n",
       "    .dataframe tbody tr th:only-of-type {\n",
       "        vertical-align: middle;\n",
       "    }\n",
       "\n",
       "    .dataframe tbody tr th {\n",
       "        vertical-align: top;\n",
       "    }\n",
       "\n",
       "    .dataframe thead th {\n",
       "        text-align: right;\n",
       "    }\n",
       "</style>\n",
       "<table border=\"1\" class=\"dataframe\">\n",
       "  <thead>\n",
       "    <tr style=\"text-align: right;\">\n",
       "      <th></th>\n",
       "      <th>Date</th>\n",
       "      <th>Polarity</th>\n",
       "      <th>Subjectivity</th>\n",
       "      <th>Adj Close</th>\n",
       "      <th>hl_pct</th>\n",
       "      <th>pct_change</th>\n",
       "    </tr>\n",
       "  </thead>\n",
       "  <tbody>\n",
       "    <tr>\n",
       "      <th>0</th>\n",
       "      <td>2019-01-10</td>\n",
       "      <td>0.067545</td>\n",
       "      <td>0.377127</td>\n",
       "      <td>36106.500000</td>\n",
       "      <td>0.550437</td>\n",
       "      <td>-0.417839</td>\n",
       "    </tr>\n",
       "    <tr>\n",
       "      <th>1</th>\n",
       "      <td>2019-01-11</td>\n",
       "      <td>0.042883</td>\n",
       "      <td>0.388607</td>\n",
       "      <td>36009.839844</td>\n",
       "      <td>1.042561</td>\n",
       "      <td>-0.502962</td>\n",
       "    </tr>\n",
       "    <tr>\n",
       "      <th>2</th>\n",
       "      <td>2019-01-14</td>\n",
       "      <td>0.087006</td>\n",
       "      <td>0.381616</td>\n",
       "      <td>35853.558594</td>\n",
       "      <td>1.213702</td>\n",
       "      <td>-0.719157</td>\n",
       "    </tr>\n",
       "    <tr>\n",
       "      <th>3</th>\n",
       "      <td>2019-01-15</td>\n",
       "      <td>0.071534</td>\n",
       "      <td>0.394132</td>\n",
       "      <td>36318.328125</td>\n",
       "      <td>1.110513</td>\n",
       "      <td>1.024337</td>\n",
       "    </tr>\n",
       "    <tr>\n",
       "      <th>4</th>\n",
       "      <td>2019-01-16</td>\n",
       "      <td>0.039724</td>\n",
       "      <td>0.398775</td>\n",
       "      <td>36321.289063</td>\n",
       "      <td>0.505592</td>\n",
       "      <td>-0.135959</td>\n",
       "    </tr>\n",
       "  </tbody>\n",
       "</table>\n",
       "</div>"
      ],
      "text/plain": [
       "        Date  Polarity  Subjectivity     Adj Close    hl_pct  pct_change\n",
       "0 2019-01-10  0.067545      0.377127  36106.500000  0.550437   -0.417839\n",
       "1 2019-01-11  0.042883      0.388607  36009.839844  1.042561   -0.502962\n",
       "2 2019-01-14  0.087006      0.381616  35853.558594  1.213702   -0.719157\n",
       "3 2019-01-15  0.071534      0.394132  36318.328125  1.110513    1.024337\n",
       "4 2019-01-16  0.039724      0.398775  36321.289063  0.505592   -0.135959"
      ]
     },
     "execution_count": 55,
     "metadata": {},
     "output_type": "execute_result"
    }
   ],
   "source": [
    "req_df = mdf[['Date', 'Polarity', 'Subjectivity','Adj Close','hl_pct','pct_change']]\n",
    "req_df.head()"
   ]
  },
  {
   "cell_type": "code",
   "execution_count": 56,
   "metadata": {},
   "outputs": [],
   "source": [
    "req_df = req_df.set_index('Date')"
   ]
  },
  {
   "cell_type": "code",
   "execution_count": 57,
   "metadata": {},
   "outputs": [
    {
     "data": {
      "text/html": [
       "<div>\n",
       "<style scoped>\n",
       "    .dataframe tbody tr th:only-of-type {\n",
       "        vertical-align: middle;\n",
       "    }\n",
       "\n",
       "    .dataframe tbody tr th {\n",
       "        vertical-align: top;\n",
       "    }\n",
       "\n",
       "    .dataframe thead th {\n",
       "        text-align: right;\n",
       "    }\n",
       "</style>\n",
       "<table border=\"1\" class=\"dataframe\">\n",
       "  <thead>\n",
       "    <tr style=\"text-align: right;\">\n",
       "      <th></th>\n",
       "      <th>Polarity</th>\n",
       "      <th>Subjectivity</th>\n",
       "      <th>Adj Close</th>\n",
       "      <th>hl_pct</th>\n",
       "      <th>pct_change</th>\n",
       "    </tr>\n",
       "    <tr>\n",
       "      <th>Date</th>\n",
       "      <th></th>\n",
       "      <th></th>\n",
       "      <th></th>\n",
       "      <th></th>\n",
       "      <th></th>\n",
       "    </tr>\n",
       "  </thead>\n",
       "  <tbody>\n",
       "    <tr>\n",
       "      <th>2019-01-10</th>\n",
       "      <td>0.067545</td>\n",
       "      <td>0.377127</td>\n",
       "      <td>36106.500000</td>\n",
       "      <td>0.550437</td>\n",
       "      <td>-0.417839</td>\n",
       "    </tr>\n",
       "    <tr>\n",
       "      <th>2019-01-11</th>\n",
       "      <td>0.042883</td>\n",
       "      <td>0.388607</td>\n",
       "      <td>36009.839844</td>\n",
       "      <td>1.042561</td>\n",
       "      <td>-0.502962</td>\n",
       "    </tr>\n",
       "    <tr>\n",
       "      <th>2019-01-14</th>\n",
       "      <td>0.087006</td>\n",
       "      <td>0.381616</td>\n",
       "      <td>35853.558594</td>\n",
       "      <td>1.213702</td>\n",
       "      <td>-0.719157</td>\n",
       "    </tr>\n",
       "    <tr>\n",
       "      <th>2019-01-15</th>\n",
       "      <td>0.071534</td>\n",
       "      <td>0.394132</td>\n",
       "      <td>36318.328125</td>\n",
       "      <td>1.110513</td>\n",
       "      <td>1.024337</td>\n",
       "    </tr>\n",
       "    <tr>\n",
       "      <th>2019-01-16</th>\n",
       "      <td>0.039724</td>\n",
       "      <td>0.398775</td>\n",
       "      <td>36321.289063</td>\n",
       "      <td>0.505592</td>\n",
       "      <td>-0.135959</td>\n",
       "    </tr>\n",
       "  </tbody>\n",
       "</table>\n",
       "</div>"
      ],
      "text/plain": [
       "            Polarity  Subjectivity     Adj Close    hl_pct  pct_change\n",
       "Date                                                                  \n",
       "2019-01-10  0.067545      0.377127  36106.500000  0.550437   -0.417839\n",
       "2019-01-11  0.042883      0.388607  36009.839844  1.042561   -0.502962\n",
       "2019-01-14  0.087006      0.381616  35853.558594  1.213702   -0.719157\n",
       "2019-01-15  0.071534      0.394132  36318.328125  1.110513    1.024337\n",
       "2019-01-16  0.039724      0.398775  36321.289063  0.505592   -0.135959"
      ]
     },
     "execution_count": 57,
     "metadata": {},
     "output_type": "execute_result"
    }
   ],
   "source": [
    "req_df.head()"
   ]
  },
  {
   "cell_type": "markdown",
   "metadata": {},
   "source": [
    "# Feature Scaling using MinMaxScaler"
   ]
  },
  {
   "cell_type": "code",
   "execution_count": 58,
   "metadata": {},
   "outputs": [],
   "source": [
    "from sklearn.preprocessing import MinMaxScaler"
   ]
  },
  {
   "cell_type": "code",
   "execution_count": 59,
   "metadata": {},
   "outputs": [
    {
     "data": {
      "text/html": [
       "<div>\n",
       "<style scoped>\n",
       "    .dataframe tbody tr th:only-of-type {\n",
       "        vertical-align: middle;\n",
       "    }\n",
       "\n",
       "    .dataframe tbody tr th {\n",
       "        vertical-align: top;\n",
       "    }\n",
       "\n",
       "    .dataframe thead th {\n",
       "        text-align: right;\n",
       "    }\n",
       "</style>\n",
       "<table border=\"1\" class=\"dataframe\">\n",
       "  <thead>\n",
       "    <tr style=\"text-align: right;\">\n",
       "      <th></th>\n",
       "      <th>Polarity</th>\n",
       "      <th>Subjectivity</th>\n",
       "      <th>Adj Close</th>\n",
       "      <th>hl_pct</th>\n",
       "      <th>pct_change</th>\n",
       "    </tr>\n",
       "    <tr>\n",
       "      <th>Date</th>\n",
       "      <th></th>\n",
       "      <th></th>\n",
       "      <th></th>\n",
       "      <th></th>\n",
       "      <th></th>\n",
       "    </tr>\n",
       "  </thead>\n",
       "  <tbody>\n",
       "    <tr>\n",
       "      <th>2019-01-10</th>\n",
       "      <td>0.609856</td>\n",
       "      <td>0.286760</td>\n",
       "      <td>0.633962</td>\n",
       "      <td>0.013742</td>\n",
       "      <td>0.396686</td>\n",
       "    </tr>\n",
       "    <tr>\n",
       "      <th>2019-01-11</th>\n",
       "      <td>0.406990</td>\n",
       "      <td>0.382314</td>\n",
       "      <td>0.627910</td>\n",
       "      <td>0.041075</td>\n",
       "      <td>0.391377</td>\n",
       "    </tr>\n",
       "    <tr>\n",
       "      <th>2019-01-14</th>\n",
       "      <td>0.769937</td>\n",
       "      <td>0.324125</td>\n",
       "      <td>0.618125</td>\n",
       "      <td>0.050580</td>\n",
       "      <td>0.377895</td>\n",
       "    </tr>\n",
       "    <tr>\n",
       "      <th>2019-01-15</th>\n",
       "      <td>0.642668</td>\n",
       "      <td>0.428304</td>\n",
       "      <td>0.647225</td>\n",
       "      <td>0.044849</td>\n",
       "      <td>0.486623</td>\n",
       "    </tr>\n",
       "    <tr>\n",
       "      <th>2019-01-16</th>\n",
       "      <td>0.381008</td>\n",
       "      <td>0.466959</td>\n",
       "      <td>0.647411</td>\n",
       "      <td>0.011252</td>\n",
       "      <td>0.414264</td>\n",
       "    </tr>\n",
       "  </tbody>\n",
       "</table>\n",
       "</div>"
      ],
      "text/plain": [
       "            Polarity  Subjectivity  Adj Close    hl_pct  pct_change\n",
       "Date                                                               \n",
       "2019-01-10  0.609856      0.286760   0.633962  0.013742    0.396686\n",
       "2019-01-11  0.406990      0.382314   0.627910  0.041075    0.391377\n",
       "2019-01-14  0.769937      0.324125   0.618125  0.050580    0.377895\n",
       "2019-01-15  0.642668      0.428304   0.647225  0.044849    0.486623\n",
       "2019-01-16  0.381008      0.466959   0.647411  0.011252    0.414264"
      ]
     },
     "execution_count": 59,
     "metadata": {},
     "output_type": "execute_result"
    }
   ],
   "source": [
    "scaler = MinMaxScaler()\n",
    "df1 = pd.DataFrame(scaler.fit_transform(req_df))\n",
    "df1.columns = req_df.columns\n",
    "df1.index=req_df.index\n",
    "df1.head()"
   ]
  },
  {
   "cell_type": "code",
   "execution_count": 60,
   "metadata": {},
   "outputs": [],
   "source": [
    "train = df1[: int(0.7*(len(df1)))]  #70 percent\n",
    "test = df1[int(0.7*(len(df1))):]    #30 percent"
   ]
  },
  {
   "cell_type": "code",
   "execution_count": 61,
   "metadata": {},
   "outputs": [],
   "source": [
    "from statsmodels.tsa.vector_ar.var_model import VAR\n",
    "model = VAR(endog = train)\n",
    "fitted = model.fit()"
   ]
  },
  {
   "cell_type": "markdown",
   "metadata": {},
   "source": [
    "## Predicted vs Test"
   ]
  },
  {
   "cell_type": "code",
   "execution_count": 63,
   "metadata": {},
   "outputs": [],
   "source": [
    "pred = fitted.forecast(fitted.y, steps=len(test))\n",
    "predicted = pd.DataFrame(pred, columns=df1.columns)"
   ]
  },
  {
   "cell_type": "code",
   "execution_count": 67,
   "metadata": {},
   "outputs": [
    {
     "data": {
      "text/html": [
       "<div>\n",
       "<style scoped>\n",
       "    .dataframe tbody tr th:only-of-type {\n",
       "        vertical-align: middle;\n",
       "    }\n",
       "\n",
       "    .dataframe tbody tr th {\n",
       "        vertical-align: top;\n",
       "    }\n",
       "\n",
       "    .dataframe thead th {\n",
       "        text-align: right;\n",
       "    }\n",
       "</style>\n",
       "<table border=\"1\" class=\"dataframe\">\n",
       "  <thead>\n",
       "    <tr style=\"text-align: right;\">\n",
       "      <th></th>\n",
       "      <th>Polarity</th>\n",
       "      <th>Subjectivity</th>\n",
       "      <th>Adj Close</th>\n",
       "      <th>hl_pct</th>\n",
       "      <th>pct_change</th>\n",
       "    </tr>\n",
       "  </thead>\n",
       "  <tbody>\n",
       "    <tr>\n",
       "      <th>0</th>\n",
       "      <td>0.494020</td>\n",
       "      <td>0.481319</td>\n",
       "      <td>0.983922</td>\n",
       "      <td>0.053278</td>\n",
       "      <td>0.430924</td>\n",
       "    </tr>\n",
       "    <tr>\n",
       "      <th>1</th>\n",
       "      <td>0.466430</td>\n",
       "      <td>0.458304</td>\n",
       "      <td>0.984770</td>\n",
       "      <td>0.034545</td>\n",
       "      <td>0.407901</td>\n",
       "    </tr>\n",
       "    <tr>\n",
       "      <th>2</th>\n",
       "      <td>0.446641</td>\n",
       "      <td>0.453462</td>\n",
       "      <td>0.982860</td>\n",
       "      <td>0.032005</td>\n",
       "      <td>0.405571</td>\n",
       "    </tr>\n",
       "    <tr>\n",
       "      <th>3</th>\n",
       "      <td>0.443066</td>\n",
       "      <td>0.454000</td>\n",
       "      <td>0.980834</td>\n",
       "      <td>0.031926</td>\n",
       "      <td>0.405612</td>\n",
       "    </tr>\n",
       "    <tr>\n",
       "      <th>4</th>\n",
       "      <td>0.442947</td>\n",
       "      <td>0.454750</td>\n",
       "      <td>0.978866</td>\n",
       "      <td>0.032070</td>\n",
       "      <td>0.405737</td>\n",
       "    </tr>\n",
       "  </tbody>\n",
       "</table>\n",
       "</div>"
      ],
      "text/plain": [
       "   Polarity  Subjectivity  Adj Close    hl_pct  pct_change\n",
       "0  0.494020      0.481319   0.983922  0.053278    0.430924\n",
       "1  0.466430      0.458304   0.984770  0.034545    0.407901\n",
       "2  0.446641      0.453462   0.982860  0.032005    0.405571\n",
       "3  0.443066      0.454000   0.980834  0.031926    0.405612\n",
       "4  0.442947      0.454750   0.978866  0.032070    0.405737"
      ]
     },
     "execution_count": 67,
     "metadata": {},
     "output_type": "execute_result"
    }
   ],
   "source": [
    "predicted.head()"
   ]
  },
  {
   "cell_type": "code",
   "execution_count": 65,
   "metadata": {},
   "outputs": [
    {
     "data": {
      "text/html": [
       "<div>\n",
       "<style scoped>\n",
       "    .dataframe tbody tr th:only-of-type {\n",
       "        vertical-align: middle;\n",
       "    }\n",
       "\n",
       "    .dataframe tbody tr th {\n",
       "        vertical-align: top;\n",
       "    }\n",
       "\n",
       "    .dataframe thead th {\n",
       "        text-align: right;\n",
       "    }\n",
       "</style>\n",
       "<table border=\"1\" class=\"dataframe\">\n",
       "  <thead>\n",
       "    <tr style=\"text-align: right;\">\n",
       "      <th></th>\n",
       "      <th>Polarity</th>\n",
       "      <th>Subjectivity</th>\n",
       "      <th>Adj Close</th>\n",
       "      <th>hl_pct</th>\n",
       "      <th>pct_change</th>\n",
       "    </tr>\n",
       "    <tr>\n",
       "      <th>Date</th>\n",
       "      <th></th>\n",
       "      <th></th>\n",
       "      <th></th>\n",
       "      <th></th>\n",
       "      <th></th>\n",
       "    </tr>\n",
       "  </thead>\n",
       "  <tbody>\n",
       "    <tr>\n",
       "      <th>2020-01-21</th>\n",
       "      <td>0.451137</td>\n",
       "      <td>0.211290</td>\n",
       "      <td>0.960628</td>\n",
       "      <td>0.015221</td>\n",
       "      <td>0.398127</td>\n",
       "    </tr>\n",
       "    <tr>\n",
       "      <th>2020-01-22</th>\n",
       "      <td>0.191356</td>\n",
       "      <td>0.191438</td>\n",
       "      <td>0.947578</td>\n",
       "      <td>0.047187</td>\n",
       "      <td>0.369843</td>\n",
       "    </tr>\n",
       "    <tr>\n",
       "      <th>2020-01-23</th>\n",
       "      <td>0.757828</td>\n",
       "      <td>0.177150</td>\n",
       "      <td>0.964547</td>\n",
       "      <td>0.025746</td>\n",
       "      <td>0.452250</td>\n",
       "    </tr>\n",
       "    <tr>\n",
       "      <th>2020-01-24</th>\n",
       "      <td>0.567372</td>\n",
       "      <td>0.705197</td>\n",
       "      <td>0.978747</td>\n",
       "      <td>0.039878</td>\n",
       "      <td>0.458335</td>\n",
       "    </tr>\n",
       "    <tr>\n",
       "      <th>2020-01-27</th>\n",
       "      <td>0.746935</td>\n",
       "      <td>0.679697</td>\n",
       "      <td>0.950066</td>\n",
       "      <td>0.036356</td>\n",
       "      <td>0.369327</td>\n",
       "    </tr>\n",
       "  </tbody>\n",
       "</table>\n",
       "</div>"
      ],
      "text/plain": [
       "            Polarity  Subjectivity  Adj Close    hl_pct  pct_change\n",
       "Date                                                               \n",
       "2020-01-21  0.451137      0.211290   0.960628  0.015221    0.398127\n",
       "2020-01-22  0.191356      0.191438   0.947578  0.047187    0.369843\n",
       "2020-01-23  0.757828      0.177150   0.964547  0.025746    0.452250\n",
       "2020-01-24  0.567372      0.705197   0.978747  0.039878    0.458335\n",
       "2020-01-27  0.746935      0.679697   0.950066  0.036356    0.369327"
      ]
     },
     "execution_count": 65,
     "metadata": {},
     "output_type": "execute_result"
    }
   ],
   "source": [
    "test.head()"
   ]
  },
  {
   "cell_type": "markdown",
   "metadata": {},
   "source": [
    "Checking the accuracy"
   ]
  },
  {
   "cell_type": "code",
   "execution_count": 66,
   "metadata": {},
   "outputs": [
    {
     "data": {
      "text/plain": [
       "0.4664311281584297"
      ]
     },
     "execution_count": 66,
     "metadata": {},
     "output_type": "execute_result"
    }
   ],
   "source": [
    "from sklearn.metrics import mean_squared_error\n",
    "np.sqrt(mean_squared_error(predicted['Adj Close'], test['Adj Close']))"
   ]
  },
  {
   "cell_type": "code",
   "execution_count": null,
   "metadata": {},
   "outputs": [],
   "source": []
  }
 ],
 "metadata": {
  "kernelspec": {
   "display_name": "Python 3",
   "language": "python",
   "name": "python3"
  },
  "language_info": {
   "codemirror_mode": {
    "name": "ipython",
    "version": 3
   },
   "file_extension": ".py",
   "mimetype": "text/x-python",
   "name": "python",
   "nbconvert_exporter": "python",
   "pygments_lexer": "ipython3",
   "version": "3.8.3"
  }
 },
 "nbformat": 4,
 "nbformat_minor": 4
}
